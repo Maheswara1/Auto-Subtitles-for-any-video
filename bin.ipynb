{
  "nbformat": 4,
  "nbformat_minor": 0,
  "metadata": {
    "colab": {
      "name": "bin.ipynb",
      "provenance": []
    },
    "kernelspec": {
      "name": "python3",
      "display_name": "Python 3"
    },
    "language_info": {
      "name": "python"
    }
  },
  "cells": [
    {
      "cell_type": "code",
      "execution_count": 1,
      "metadata": {
        "colab": {
          "base_uri": "https://localhost:8080/",
          "height": 130
        },
        "id": "qt6MmSsmzad9",
        "outputId": "ed3d75c9-05b8-4d67-cc84-44a15f319d83"
      },
      "outputs": [
        {
          "output_type": "error",
          "ename": "SyntaxError",
          "evalue": "ignored",
          "traceback": [
            "\u001b[0;36m  File \u001b[0;32m\"<ipython-input-1-233a3f37c306>\"\u001b[0;36m, line \u001b[0;32m11\u001b[0m\n\u001b[0;31m    version='0.3.12',\u001b[0m\n\u001b[0m    ^\u001b[0m\n\u001b[0;31mSyntaxError\u001b[0m\u001b[0;31m:\u001b[0m keyword argument repeated\n"
          ]
        }
      ],
      "source": [
        "#!/usr/bin/env python\n",
        "try:\n",
        "    from setuptools import setup\n",
        "except ImportError:\n",
        "    from distutils.core import setup\n",
        "long_description = 'Autosub is a utility for automatic speech recognition and subtitle generation. It takes a video or an audio file as input, performs voice activity detection to find speech regions, makes parallel requests to Google Web Speech API to generate transcriptions for those regions, (optionally) translates them to a different language, and finally saves the resulting subtitles to disk. It supports a variety of input and output languages (to see which, run the utility with --list-src-languages and --list-dst-languages as arguments respectively) and can currently produce subtitles in either the SRT format or simple JSON.'\n",
        "\n",
        "setup(\n",
        "    name='autosub',\n",
        "    version='0.3.11',\n",
        "    version='0.3.12',\n",
        "    description='Auto-generates subtitles for any video or audio file',\n",
        "    long_description=long_description,\n",
        "    author='Anastasis Germanidis',\n",
        "    author_email='agermanidis@gmail.com',\n",
        "    url='https://github.com/agermanidis/autosub',\n",
        "    packages=['autosub'],\n",
        "    scripts=['bin/autosub'],\n",
        "    install_requires=[\n",
        "        'google-api-python-client>=1.4.2',\n",
        "        'requests>=2.3.0',\n",
        "        'pysrt>=1.0.1',\n",
        "        'progressbar>=2.3'\n",
        "    ],\n",
        "    license=open(\"LICENSE\").read()\n",
        ")"
      ]
    },
    {
      "cell_type": "code",
      "source": [
        ""
      ],
      "metadata": {
        "id": "Y7oPFV25zbwL"
      },
      "execution_count": null,
      "outputs": []
    }
  ]
}